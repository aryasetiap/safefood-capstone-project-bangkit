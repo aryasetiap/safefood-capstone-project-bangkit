{
 "cells": [
  {
   "cell_type": "markdown",
   "metadata": {},
   "source": [
    "# Data Wrangling untuk Project SafeFood\n",
    "\n",
    "Dalam notebook ini, kami akan melakukan proses **data wrangling** pada dataset `donor_data` dan `receiver_data`. \n",
    "Proses ini mencakup tiga langkah utama:\n",
    "1. **Gathering Data**: Mengumpulkan dan memuat data yang diperlukan.\n",
    "2. **Assessing Data**: Mengevaluasi data untuk menemukan masalah kualitas atau struktural.\n",
    "3. **Cleaning Data**: Memperbaiki masalah yang ditemukan pada tahap assessing."
   ]
  },
  {
   "cell_type": "code",
   "execution_count": 1,
   "metadata": {},
   "outputs": [],
   "source": [
    "# Import Library yang diperlukan\n",
    "import pandas as pd"
   ]
  },
  {
   "cell_type": "markdown",
   "metadata": {},
   "source": [
    "## Gathering Data"
   ]
  },
  {
   "cell_type": "markdown",
   "metadata": {},
   "source": [
    "1. Membaca file `data_donor.csv` dan `data_receiver.csv`"
   ]
  },
  {
   "cell_type": "code",
   "execution_count": 2,
   "metadata": {},
   "outputs": [],
   "source": [
    "donor_data = pd.read_csv('raw_data/data_donor.csv')\n",
    "receiver_data = pd.read_csv('raw_data/data_receiver.csv')"
   ]
  },
  {
   "cell_type": "markdown",
   "metadata": {},
   "source": [
    "2. Menampilkan informasi dasar dari kedua dataset."
   ]
  },
  {
   "cell_type": "code",
   "execution_count": 3,
   "metadata": {},
   "outputs": [
    {
     "name": "stdout",
     "output_type": "stream",
     "text": [
      "Informasi Data Donor:\n",
      "<class 'pandas.core.frame.DataFrame'>\n",
      "RangeIndex: 2000 entries, 0 to 1999\n",
      "Data columns (total 9 columns):\n",
      " #   Column                  Non-Null Count  Dtype \n",
      "---  ------                  --------------  ----- \n",
      " 0   donor_id                2000 non-null   object\n",
      " 1   jenis_makanan           2000 non-null   object\n",
      " 2   jumlah_makanan          2000 non-null   int64 \n",
      " 3   lokasi_donor            2000 non-null   object\n",
      " 4   makanan_layak_konsumsi  2000 non-null   object\n",
      " 5   is_halal                2000 non-null   bool  \n",
      " 6   is_for_child            2000 non-null   bool  \n",
      " 7   is_for_elderly          2000 non-null   bool  \n",
      " 8   is_alergan              2000 non-null   bool  \n",
      "dtypes: bool(4), int64(1), object(4)\n",
      "memory usage: 86.1+ KB\n",
      "None\n",
      "\n",
      "Informasi Data Penerima:\n",
      "<class 'pandas.core.frame.DataFrame'>\n",
      "RangeIndex: 2000 entries, 0 to 1999\n",
      "Data columns (total 10 columns):\n",
      " #   Column                    Non-Null Count  Dtype \n",
      "---  ------                    --------------  ----- \n",
      " 0   penerima_id               2000 non-null   object\n",
      " 1   jenis_makanan_dibutuhkan  2000 non-null   object\n",
      " 2   jumlah_dibutuhkan         2000 non-null   int64 \n",
      " 3   lokasi_penerima           2000 non-null   object\n",
      " 4   jumlah_diterima           2000 non-null   int64 \n",
      " 5   makanan_layak_konsumsi    2000 non-null   object\n",
      " 6   is_halal                  2000 non-null   bool  \n",
      " 7   is_for_child              2000 non-null   bool  \n",
      " 8   is_for_elderly            2000 non-null   bool  \n",
      " 9   is_alergan_free           2000 non-null   bool  \n",
      "dtypes: bool(4), int64(2), object(4)\n",
      "memory usage: 101.7+ KB\n",
      "None\n"
     ]
    }
   ],
   "source": [
    "print(\"Informasi Data Donor:\")\n",
    "print(donor_data.info())\n",
    "print(\"\\nInformasi Data Penerima:\")\n",
    "print(receiver_data.info())"
   ]
  },
  {
   "cell_type": "markdown",
   "metadata": {},
   "source": [
    "3. Melihat contoh beberapa baris pertama dari dataset."
   ]
  },
  {
   "cell_type": "code",
   "execution_count": 4,
   "metadata": {},
   "outputs": [
    {
     "name": "stdout",
     "output_type": "stream",
     "text": [
      "\n",
      "Contoh Data Donor:\n",
      "  donor_id           jenis_makanan  jumlah_makanan  \\\n",
      "0       D1             ['minuman']               4   \n",
      "1       D2             ['minuman']               8   \n",
      "2       D3  ['minuman', 'makanan']               6   \n",
      "3       D4             ['minuman']               2   \n",
      "4       D5             ['makanan']               3   \n",
      "\n",
      "                              lokasi_donor makanan_layak_konsumsi  is_halal  \\\n",
      "0   (-5.4371805167803, 105.22789132966643)   tidak layak konsumsi      True   \n",
      "1  (-5.41791883126274, 105.31303510252201)   tidak layak konsumsi      True   \n",
      "2  (-5.37546883187783, 105.25501623675349)   tidak layak konsumsi     False   \n",
      "3   (-5.39690771605578, 105.2110846330879)   tidak layak konsumsi      True   \n",
      "4   (-5.37902105025945, 105.3139240442038)         layak konsumsi      True   \n",
      "\n",
      "   is_for_child  is_for_elderly  is_alergan  \n",
      "0         False           False        True  \n",
      "1         False            True       False  \n",
      "2         False           False        True  \n",
      "3         False           False        True  \n",
      "4          True           False        True  \n",
      "\n",
      "Contoh Data Penerima:\n",
      "  penerima_id jenis_makanan_dibutuhkan  jumlah_dibutuhkan  \\\n",
      "0          R1              ['makanan']                  5   \n",
      "1          R2              ['makanan']                  5   \n",
      "2          R3              ['makanan']                  8   \n",
      "3          R4              ['minuman']                 10   \n",
      "4          R5              ['minuman']                  7   \n",
      "\n",
      "                           lokasi_penerima  jumlah_diterima  \\\n",
      "0  (-5.40111210034528, 105.24284216038546)                4   \n",
      "1   (-5.43770820552181, 105.2300245667009)                4   \n",
      "2  (-5.39159919397975, 105.22541881010831)                5   \n",
      "3  (-5.40173904848697, 105.23124733197133)                0   \n",
      "4  (-5.39033872408051, 105.30929657079442)                2   \n",
      "\n",
      "  makanan_layak_konsumsi  is_halal  is_for_child  is_for_elderly  \\\n",
      "0   tidak layak konsumsi     False         False           False   \n",
      "1   tidak layak konsumsi     False         False           False   \n",
      "2   tidak layak konsumsi     False         False           False   \n",
      "3   tidak layak konsumsi     False         False           False   \n",
      "4   tidak layak konsumsi     False         False           False   \n",
      "\n",
      "   is_alergan_free  \n",
      "0            False  \n",
      "1            False  \n",
      "2            False  \n",
      "3            False  \n",
      "4            False  \n"
     ]
    }
   ],
   "source": [
    "print(\"\\nContoh Data Donor:\")\n",
    "print(donor_data.head())\n",
    "print(\"\\nContoh Data Penerima:\")\n",
    "print(receiver_data.head())"
   ]
  },
  {
   "cell_type": "markdown",
   "metadata": {},
   "source": [
    "## Assesing Data"
   ]
  },
  {
   "cell_type": "markdown",
   "metadata": {},
   "source": [
    "1. Memeriksa jumlah nilai kosong (missing values)"
   ]
  },
  {
   "cell_type": "code",
   "execution_count": 5,
   "metadata": {},
   "outputs": [
    {
     "name": "stdout",
     "output_type": "stream",
     "text": [
      "Jumlah Nilai Kosong pada Data Donor:\n",
      "donor_id                  0\n",
      "jenis_makanan             0\n",
      "jumlah_makanan            0\n",
      "lokasi_donor              0\n",
      "makanan_layak_konsumsi    0\n",
      "is_halal                  0\n",
      "is_for_child              0\n",
      "is_for_elderly            0\n",
      "is_alergan                0\n",
      "dtype: int64\n",
      "\n",
      "Jumlah Nilai Kosong pada Data Penerima:\n",
      "penerima_id                 0\n",
      "jenis_makanan_dibutuhkan    0\n",
      "jumlah_dibutuhkan           0\n",
      "lokasi_penerima             0\n",
      "jumlah_diterima             0\n",
      "makanan_layak_konsumsi      0\n",
      "is_halal                    0\n",
      "is_for_child                0\n",
      "is_for_elderly              0\n",
      "is_alergan_free             0\n",
      "dtype: int64\n"
     ]
    }
   ],
   "source": [
    "print(\"Jumlah Nilai Kosong pada Data Donor:\")\n",
    "print(donor_data.isnull().sum())\n",
    "print(\"\\nJumlah Nilai Kosong pada Data Penerima:\")\n",
    "print(receiver_data.isnull().sum())"
   ]
  },
  {
   "cell_type": "markdown",
   "metadata": {},
   "source": [
    "2. Memeriksa data duplikat"
   ]
  },
  {
   "cell_type": "code",
   "execution_count": 6,
   "metadata": {},
   "outputs": [
    {
     "name": "stdout",
     "output_type": "stream",
     "text": [
      "\n",
      "Jumlah Duplikasi pada Data Donor:\n",
      "0\n",
      "\n",
      "Jumlah Duplikasi pada Data Penerima:\n",
      "0\n"
     ]
    }
   ],
   "source": [
    "print(\"\\nJumlah Duplikasi pada Data Donor:\")\n",
    "print(donor_data.duplicated().sum())\n",
    "print(\"\\nJumlah Duplikasi pada Data Penerima:\")\n",
    "print(receiver_data.duplicated().sum())"
   ]
  },
  {
   "cell_type": "markdown",
   "metadata": {},
   "source": [
    "3. Melihat statistik deskriptif dataset"
   ]
  },
  {
   "cell_type": "code",
   "execution_count": 7,
   "metadata": {},
   "outputs": [
    {
     "name": "stdout",
     "output_type": "stream",
     "text": [
      "\n",
      "Statistik Deskriptif Data Donor:\n",
      "       donor_id jenis_makanan  jumlah_makanan  \\\n",
      "count      2000          2000     2000.000000   \n",
      "unique     2000             4             NaN   \n",
      "top       D1984   ['minuman']             NaN   \n",
      "freq          1           531             NaN   \n",
      "mean        NaN           NaN        5.524000   \n",
      "std         NaN           NaN        2.869066   \n",
      "min         NaN           NaN        1.000000   \n",
      "25%         NaN           NaN        3.000000   \n",
      "50%         NaN           NaN        5.000000   \n",
      "75%         NaN           NaN        8.000000   \n",
      "max         NaN           NaN       10.000000   \n",
      "\n",
      "                                  lokasi_donor makanan_layak_konsumsi  \\\n",
      "count                                     2000                   2000   \n",
      "unique                                    2000                      3   \n",
      "top     (-5.4174741054965, 105.31071641411299)         layak konsumsi   \n",
      "freq                                         1                    703   \n",
      "mean                                       NaN                    NaN   \n",
      "std                                        NaN                    NaN   \n",
      "min                                        NaN                    NaN   \n",
      "25%                                        NaN                    NaN   \n",
      "50%                                        NaN                    NaN   \n",
      "75%                                        NaN                    NaN   \n",
      "max                                        NaN                    NaN   \n",
      "\n",
      "       is_halal is_for_child is_for_elderly is_alergan  \n",
      "count      2000         2000           2000       2000  \n",
      "unique        2            2              2          2  \n",
      "top        True        False          False       True  \n",
      "freq       1034         1016           1002       1036  \n",
      "mean        NaN          NaN            NaN        NaN  \n",
      "std         NaN          NaN            NaN        NaN  \n",
      "min         NaN          NaN            NaN        NaN  \n",
      "25%         NaN          NaN            NaN        NaN  \n",
      "50%         NaN          NaN            NaN        NaN  \n",
      "75%         NaN          NaN            NaN        NaN  \n",
      "max         NaN          NaN            NaN        NaN  \n",
      "\n",
      "Statistik Deskriptif Data Penerima:\n",
      "       penerima_id jenis_makanan_dibutuhkan  jumlah_dibutuhkan  \\\n",
      "count         2000                     2000         2000.00000   \n",
      "unique        2000                        4                NaN   \n",
      "top          R1984              ['makanan']                NaN   \n",
      "freq             1                      522                NaN   \n",
      "mean           NaN                      NaN            5.54350   \n",
      "std            NaN                      NaN            2.84168   \n",
      "min            NaN                      NaN            1.00000   \n",
      "25%            NaN                      NaN            3.00000   \n",
      "50%            NaN                      NaN            6.00000   \n",
      "75%            NaN                      NaN            8.00000   \n",
      "max            NaN                      NaN           10.00000   \n",
      "\n",
      "                                lokasi_penerima  jumlah_diterima  \\\n",
      "count                                      2000      2000.000000   \n",
      "unique                                     2000              NaN   \n",
      "top     (-5.37860846983764, 105.29981497895984)              NaN   \n",
      "freq                                          1              NaN   \n",
      "mean                                        NaN         2.486000   \n",
      "std                                         NaN         1.717346   \n",
      "min                                         NaN         0.000000   \n",
      "25%                                         NaN         1.000000   \n",
      "50%                                         NaN         2.500000   \n",
      "75%                                         NaN         4.000000   \n",
      "max                                         NaN         5.000000   \n",
      "\n",
      "       makanan_layak_konsumsi is_halal is_for_child is_for_elderly  \\\n",
      "count                    2000     2000         2000           2000   \n",
      "unique                      5        2            2              2   \n",
      "top      tidak layak konsumsi    False        False          False   \n",
      "freq                     1015     1523         1508           1479   \n",
      "mean                      NaN      NaN          NaN            NaN   \n",
      "std                       NaN      NaN          NaN            NaN   \n",
      "min                       NaN      NaN          NaN            NaN   \n",
      "25%                       NaN      NaN          NaN            NaN   \n",
      "50%                       NaN      NaN          NaN            NaN   \n",
      "75%                       NaN      NaN          NaN            NaN   \n",
      "max                       NaN      NaN          NaN            NaN   \n",
      "\n",
      "       is_alergan_free  \n",
      "count             2000  \n",
      "unique               2  \n",
      "top              False  \n",
      "freq              1497  \n",
      "mean               NaN  \n",
      "std                NaN  \n",
      "min                NaN  \n",
      "25%                NaN  \n",
      "50%                NaN  \n",
      "75%                NaN  \n",
      "max                NaN  \n"
     ]
    }
   ],
   "source": [
    "print(\"\\nStatistik Deskriptif Data Donor:\")\n",
    "print(donor_data.describe(include='all'))\n",
    "print(\"\\nStatistik Deskriptif Data Penerima:\")\n",
    "print(receiver_data.describe(include='all'))"
   ]
  },
  {
   "cell_type": "markdown",
   "metadata": {},
   "source": [
    "4. Mengidentifikasi nilai yang tidak wajar (outliers) dan inkonsistensi\n"
   ]
  },
  {
   "cell_type": "code",
   "execution_count": 8,
   "metadata": {},
   "outputs": [
    {
     "name": "stdout",
     "output_type": "stream",
     "text": [
      "\n",
      "Distribusi Jumlah Makanan (Data Donor):\n",
      "count    2000.000000\n",
      "mean        5.524000\n",
      "std         2.869066\n",
      "min         1.000000\n",
      "25%         3.000000\n",
      "50%         5.000000\n",
      "75%         8.000000\n",
      "max        10.000000\n",
      "Name: jumlah_makanan, dtype: float64\n"
     ]
    }
   ],
   "source": [
    "# a. Memeriksa distribusi jumlah_makanan di data donor\n",
    "print(\"\\nDistribusi Jumlah Makanan (Data Donor):\")\n",
    "print(donor_data['jumlah_makanan'].describe())"
   ]
  },
  {
   "cell_type": "code",
   "execution_count": 9,
   "metadata": {},
   "outputs": [
    {
     "name": "stdout",
     "output_type": "stream",
     "text": [
      "\n",
      "Distribusi Jumlah Dibutuhkan (Data Penerima):\n",
      "count    2000.00000\n",
      "mean        5.54350\n",
      "std         2.84168\n",
      "min         1.00000\n",
      "25%         3.00000\n",
      "50%         6.00000\n",
      "75%         8.00000\n",
      "max        10.00000\n",
      "Name: jumlah_dibutuhkan, dtype: float64\n"
     ]
    }
   ],
   "source": [
    "# b. Memeriksa distribusi jumlah_dibutuhkan di data penerima\n",
    "print(\"\\nDistribusi Jumlah Dibutuhkan (Data Penerima):\")\n",
    "print(receiver_data['jumlah_dibutuhkan'].describe())"
   ]
  },
  {
   "cell_type": "code",
   "execution_count": 10,
   "metadata": {},
   "outputs": [
    {
     "name": "stdout",
     "output_type": "stream",
     "text": [
      "\n",
      "Jenis Makanan pada Data Donor:\n",
      "[\"['minuman']\" \"['minuman', 'makanan']\" \"['makanan']\"\n",
      " \"['makanan', 'minuman']\"]\n",
      "\n",
      "Jenis Makanan Dibutuhkan pada Data Penerima:\n",
      "[\"['makanan']\" \"['minuman']\" \"['minuman', 'makanan']\"\n",
      " \"['makanan', 'minuman']\"]\n"
     ]
    }
   ],
   "source": [
    "# c. Memeriksa nilai unik untuk atribut kategori\n",
    "print(\"\\nJenis Makanan pada Data Donor:\")\n",
    "print(donor_data['jenis_makanan'].unique())\n",
    "print(\"\\nJenis Makanan Dibutuhkan pada Data Penerima:\")\n",
    "print(receiver_data['jenis_makanan_dibutuhkan'].unique())"
   ]
  },
  {
   "cell_type": "code",
   "execution_count": 11,
   "metadata": {},
   "outputs": [
    {
     "name": "stdout",
     "output_type": "stream",
     "text": [
      "\n",
      "Nilai Unik Kolom 'makanan_layak_konsumsi' Data Donor:\n",
      "['tidak layak konsumsi' 'layak konsumsi' 'hampir kadaluarsa']\n",
      "\n",
      "Nilai Unik Kolom 'makanan_layak_konsumsi' Data Penerima:\n",
      "['tidak layak konsumsi' \"['hampir kadaluarsa', 'layak konsumsi']\"\n",
      " \"['hampir kadaluarsa']\" \"['layak konsumsi', 'hampir kadaluarsa']\"\n",
      " \"['layak konsumsi']\"]\n"
     ]
    }
   ],
   "source": [
    "# d. Memeriksa inkonsistensi pada kolom makanan_layak_konsumsi\n",
    "print(\"\\nNilai Unik Kolom 'makanan_layak_konsumsi' Data Donor:\")\n",
    "print(donor_data['makanan_layak_konsumsi'].unique())\n",
    "print(\"\\nNilai Unik Kolom 'makanan_layak_konsumsi' Data Penerima:\")\n",
    "print(receiver_data['makanan_layak_konsumsi'].unique())"
   ]
  },
  {
   "cell_type": "markdown",
   "metadata": {},
   "source": [
    "## Cleaning Data"
   ]
  },
  {
   "cell_type": "markdown",
   "metadata": {},
   "source": [
    "\n",
    "Berdasarkan hasil proses assessing data, kami menyimpulkan bahwa dataset yang akan digunakan telah bebas dari masalah yang dapat memengaruhi analisis atau pemodelan pada tahap selanjutnya.\n",
    "\n",
    "Namun, terdapat beberapa hal yang perlu diperhatikan, yaitu:\n",
    "\n",
    "- Kombinasi `['makanan', 'minuman']` dan `['minuman', 'makanan']` seharusnya dianggap sama.\n",
    "- Kombinasi `['layak konsumsi', 'hampir kadaluarsa']` dan `['hampir kadaluarsa', 'layak konsumsi']` juga harus dianggap sama.\n",
    "\n",
    "Untuk itu, kami akan menyamakan keduanya menjadi urutan standar yaitu `['makanan', 'minuman']` dan `['layak konsumsi', 'hampir kadaluarsa']`.\n",
    "\n",
    "Setelah proses pembersihan dan penyamaan data dilakukan, dataset yang telah disesuaikan akan disimpan dalam direktori yang sesuai untuk digunakan pada proses selanjutnya."
   ]
  },
  {
   "cell_type": "code",
   "execution_count": 12,
   "metadata": {},
   "outputs": [],
   "source": [
    "# Fungsi untuk memastikan urutan elemen yang benar dalam list\n",
    "def correct_order(x):\n",
    "    # Cek jika x berupa string yang berisi list (misalnya \"['minuman', 'makanan']\")\n",
    "    if isinstance(x, str):\n",
    "        try:\n",
    "            # Coba mengonversi string menjadi list Python\n",
    "            x = eval(x)\n",
    "        except:\n",
    "            # Jika gagal, berarti x bukan dalam format list, biarkan saja\n",
    "            pass\n",
    "    \n",
    "    if isinstance(x, list):\n",
    "        # Memperbaiki urutan pasangan list tertentu\n",
    "        if 'minuman' in x and 'makanan' in x:\n",
    "            # Mengurutkan sehingga 'makanan' muncul sebelum 'minuman'\n",
    "            x.sort()  \n",
    "        if 'layak konsumsi' in x and 'hampir kadaluarsa' in x:\n",
    "            # Mengurutkan sehingga 'layak konsumsi' muncul sebelum 'hampir kadaluarsa'\n",
    "            x.sort()  \n",
    "            # Pastikan urutan yang benar adalah 'layak konsumsi' kemudian 'hampir kadaluarsa'\n",
    "            if 'layak konsumsi' in x and 'hampir kadaluarsa' in x:\n",
    "                x.remove('layak konsumsi')\n",
    "                x = ['layak konsumsi'] + x\n",
    "    return x\n",
    "\n",
    "# Proses Cleaning untuk Data Penerima (makanan_layak_konsumsi dan jenis_makanan_dibutuhkan)\n",
    "receiver_data['makanan_layak_konsumsi'] = receiver_data['makanan_layak_konsumsi'].apply(correct_order)\n",
    "receiver_data['jenis_makanan_dibutuhkan'] = receiver_data['jenis_makanan_dibutuhkan'].apply(correct_order)\n",
    "\n",
    "# Proses Cleaning untuk Data Donor (jenis_makanan)\n",
    "donor_data['jenis_makanan'] = donor_data['jenis_makanan'].apply(correct_order)"
   ]
  },
  {
   "cell_type": "code",
   "execution_count": 13,
   "metadata": {},
   "outputs": [
    {
     "name": "stdout",
     "output_type": "stream",
     "text": [
      "Contoh Data Penerima setelah Cleaning:\n",
      "  penerima_id jenis_makanan_dibutuhkan  jumlah_dibutuhkan  \\\n",
      "0          R1                [makanan]                  5   \n",
      "1          R2                [makanan]                  5   \n",
      "2          R3                [makanan]                  8   \n",
      "3          R4                [minuman]                 10   \n",
      "4          R5                [minuman]                  7   \n",
      "\n",
      "                           lokasi_penerima  jumlah_diterima  \\\n",
      "0  (-5.40111210034528, 105.24284216038546)                4   \n",
      "1   (-5.43770820552181, 105.2300245667009)                4   \n",
      "2  (-5.39159919397975, 105.22541881010831)                5   \n",
      "3  (-5.40173904848697, 105.23124733197133)                0   \n",
      "4  (-5.39033872408051, 105.30929657079442)                2   \n",
      "\n",
      "  makanan_layak_konsumsi  is_halal  is_for_child  is_for_elderly  \\\n",
      "0   tidak layak konsumsi     False         False           False   \n",
      "1   tidak layak konsumsi     False         False           False   \n",
      "2   tidak layak konsumsi     False         False           False   \n",
      "3   tidak layak konsumsi     False         False           False   \n",
      "4   tidak layak konsumsi     False         False           False   \n",
      "\n",
      "   is_alergan_free  \n",
      "0            False  \n",
      "1            False  \n",
      "2            False  \n",
      "3            False  \n",
      "4            False  \n",
      "\n",
      "Contoh Data Donor setelah Cleaning:\n",
      "  donor_id       jenis_makanan  jumlah_makanan  \\\n",
      "0       D1           [minuman]               4   \n",
      "1       D2           [minuman]               8   \n",
      "2       D3  [makanan, minuman]               6   \n",
      "3       D4           [minuman]               2   \n",
      "4       D5           [makanan]               3   \n",
      "\n",
      "                              lokasi_donor makanan_layak_konsumsi  is_halal  \\\n",
      "0   (-5.4371805167803, 105.22789132966643)   tidak layak konsumsi      True   \n",
      "1  (-5.41791883126274, 105.31303510252201)   tidak layak konsumsi      True   \n",
      "2  (-5.37546883187783, 105.25501623675349)   tidak layak konsumsi     False   \n",
      "3   (-5.39690771605578, 105.2110846330879)   tidak layak konsumsi      True   \n",
      "4   (-5.37902105025945, 105.3139240442038)         layak konsumsi      True   \n",
      "\n",
      "   is_for_child  is_for_elderly  is_alergan  \n",
      "0         False           False        True  \n",
      "1         False            True       False  \n",
      "2         False           False        True  \n",
      "3         False           False        True  \n",
      "4          True           False        True  \n"
     ]
    }
   ],
   "source": [
    "# Menampilkan contoh data setelah dibersihkan\n",
    "print(\"Contoh Data Penerima setelah Cleaning:\")\n",
    "print(receiver_data.head())\n",
    "\n",
    "print(\"\\nContoh Data Donor setelah Cleaning:\")\n",
    "print(donor_data.head())"
   ]
  },
  {
   "cell_type": "markdown",
   "metadata": {},
   "source": [
    "Menyimpan data pada direktori : \n",
    "- Untuk dataset donor: `cleaned_data_donor.csv`\n",
    "- Untuk dataset penerima: `cleaned_data_receiver.csv`"
   ]
  },
  {
   "cell_type": "code",
   "execution_count": 14,
   "metadata": {},
   "outputs": [
    {
     "name": "stdout",
     "output_type": "stream",
     "text": [
      "Data Donor telah disimpan dalam 'cleaned_data/data_donor_cleaned.csv'\n",
      "Data Penerima telah disimpan dalam 'cleaned_data/data_receiver_cleaned.csv'\n"
     ]
    }
   ],
   "source": [
    "donor_data.to_csv('cleaned_data/data_donor_cleaned.csv', index=False)\n",
    "receiver_data.to_csv('cleaned_data/data_receiver_cleaned.csv', index=False)\n",
    "\n",
    "print(\"Data Donor telah disimpan dalam 'cleaned_data/data_donor_cleaned.csv'\")\n",
    "print(\"Data Penerima telah disimpan dalam 'cleaned_data/data_receiver_cleaned.csv'\")"
   ]
  }
 ],
 "metadata": {
  "kernelspec": {
   "display_name": "Python 3",
   "language": "python",
   "name": "python3"
  },
  "language_info": {
   "codemirror_mode": {
    "name": "ipython",
    "version": 3
   },
   "file_extension": ".py",
   "mimetype": "text/x-python",
   "name": "python",
   "nbconvert_exporter": "python",
   "pygments_lexer": "ipython3",
   "version": "3.11.9"
  }
 },
 "nbformat": 4,
 "nbformat_minor": 2
}
