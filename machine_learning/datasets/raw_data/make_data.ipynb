{
 "cells": [
  {
   "cell_type": "markdown",
   "metadata": {},
   "source": [
    "# Membuat Dataset (data_donor dan data_receiver)\n",
    "Dataset yang dibuat selanjutnya akan digunakan dalam proses training model untuk sistem penunjang keputusan penerima yang paling cocok untuk menerima donasi makanan.\n"
   ]
  },
  {
   "cell_type": "markdown",
   "metadata": {},
   "source": [
    "## Deskripsi Lengkap terkait kode yang akan dibuat"
   ]
  },
  {
   "cell_type": "markdown",
   "metadata": {},
   "source": [
    "### 1. File Data Donor (data_donor.csv)\n",
    "File ini berisi informasi tentang donor makanan dan detail makanan yang didonasikan. Setiap baris mewakili satu entri donasi.\n",
    "\n",
    "#### Atribut\n",
    "a. donor_id\n",
    "- Tipe Data: String\n",
    "- Deskripsi: ID unik untuk setiap donor, dimulai dengan huruf \"D\" diikuti oleh angka (contoh: D1, D2, ...).\n",
    "    \n",
    "b. jenis_makanan\n",
    "- Tipe Data: List (String)\n",
    "- Deskripsi: Jenis makanan yang didonasikan oleh donor. Bisa berupa satu jenis (misalnya \"makanan\") atau lebih dari satu jenis (contoh: [\"makanan\", \"minuman\"]).\n",
    "\n",
    "c. jumlah_makanan\n",
    "- Tipe Data: Integer\n",
    "- Deskripsi: Jumlah makanan yang didonasikan, dinyatakan dalam porsi atau kilogram.\n",
    "\n",
    "d. lokasi_donor\n",
    "- Tipe Data: Tuple (Float, Float)\n",
    "- Deskripsi: Lokasi geografis donor dalam bentuk koordinat GPS (latitude, longitude).\n",
    "\n",
    "e. makanan_layak_konsumsi\n",
    "- Tipe Data: String\n",
    "- Deskripsi: Status kelayakan konsumsi makanan. Nilai-nilainya dapat berupa: \"layak konsumsi\", \"hampir kadaluarsa\", \"tidak layak konsumsi\"\n",
    "\n",
    "f. is_halal\n",
    "- Tipe Data: Boolean\n",
    "- Deskripsi: Informasi apakah makanan yang didonasikan halal (True) atau tidak halal (False).\n",
    "\n",
    "g. is_for_child\n",
    "- Tipe Data: Boolean\n",
    "- Deskripsi: Menunjukkan apakah makanan ini cocok untuk anak-anak (True) atau tidak (False).\n",
    "\n",
    "h. is_for_elderly\n",
    "- Tipe Data: Boolean\n",
    "- Deskripsi: Menunjukkan apakah makanan ini cocok untuk orang tua/lansia (True) atau tidak (False).\n",
    "\n",
    "i. is_alergan\n",
    "- Tipe Data: Boolean\n",
    "- Deskripsi: Menunjukkan apakah makanan mengandung bahan yang dapat menyebabkan alergi (True) atau tidak (False).\n",
    "\n",
    "\n",
    "### 2. File Data Penerima (data_receiver.csv)\n",
    "File ini berisi informasi tentang penerima makanan dan detail kebutuhan makanan mereka. Setiap baris mewakili satu penerima.\n",
    "\n",
    "#### Atribut\n",
    "a. penerima_id\n",
    "- Tipe Data: String\n",
    "- Deskripsi: ID unik untuk setiap penerima, dimulai dengan huruf \"R\" diikuti oleh angka (contoh: R1, R2, ...).\n",
    "\n",
    "b. jenis_makanan_dibutuhkan\n",
    "- Tipe Data: List (String)\n",
    "- Deskripsi: Jenis makanan yang dibutuhkan oleh penerima. Bisa berupa satu jenis (misalnya \"makanan\") atau lebih dari satu jenis (contoh: [\"makanan\", \"minuman\"]).\n",
    "\n",
    "c. jumlah_dibutuhkan\n",
    "- Tipe Data: Integer\n",
    "- Deskripsi: Jumlah makanan yang dibutuhkan oleh penerima, dinyatakan dalam porsi atau kilogram.\n",
    "\n",
    "d. lokasi_penerima\n",
    "- Tipe Data: Tuple (Float, Float)\n",
    "- Deskripsi: Lokasi geografis penerima dalam bentuk koordinat GPS (latitude, longitude).\n",
    "\n",
    "e. jumlah_diterima\n",
    "- Tipe Data: Integer\n",
    "- Deskripsi: Jumlah makanan yang telah diterima oleh penerima sebelumnya, dinyatakan dalam porsi atau kilogram.\n",
    "\n",
    "f. makanan_layak_konsumsi\n",
    "- Tipe Data: String\n",
    "- Deskripsi: Status kelayakan konsumsi makanan yang dibutuhkan. Nilai-nilainya dapat berupa: \"layak konsumsi\", \"hampir kadaluarsa\", \"tidak layak konsumsi\"\n",
    "\n",
    "g. is_halal\n",
    "- Tipe Data: Boolean\n",
    "- Deskripsi: Menunjukkan apakah makanan yang dibutuhkan harus halal (True) atau tidak (False).\n",
    "\n",
    "h. is_for_child\n",
    "- Tipe Data: Boolean\n",
    "- Deskripsi: Menunjukkan apakah makanan yang dibutuhkan harus cocok untuk anak-anak (True) atau tidak (False).\n",
    "\n",
    "i. is_for_elderly\n",
    "- Tipe Data: Boolean\n",
    "- Deskripsi: Menunjukkan apakah makanan yang dibutuhkan harus cocok untuk orang tua/lansia (True) atau tidak (False).\n",
    "\n",
    "j. is_alergan_free\n",
    "- Tipe Data: Boolean\n",
    "- Deskripsi: Menunjukkan apakah makanan yang dibutuhkan harus bebas alergi (True) atau tidak (False)."
   ]
  },
  {
   "cell_type": "markdown",
   "metadata": {},
   "source": [
    "## Kode untuk Generate Dataset"
   ]
  },
  {
   "cell_type": "markdown",
   "metadata": {},
   "source": [
    "### Import library yang diperlukan"
   ]
  },
  {
   "cell_type": "code",
   "execution_count": 21,
   "metadata": {},
   "outputs": [
    {
     "name": "stdout",
     "output_type": "stream",
     "text": [
      "Import library selesai.\n"
     ]
    }
   ],
   "source": [
    "import pandas as pd\n",
    "import random\n",
    "import os\n",
    "\n",
    "print(\"Import library selesai.\")"
   ]
  },
  {
   "cell_type": "markdown",
   "metadata": {},
   "source": [
    "### Fungsi untuk membuat Data Donor"
   ]
  },
  {
   "cell_type": "code",
   "execution_count": 22,
   "metadata": {},
   "outputs": [
    {
     "name": "stdout",
     "output_type": "stream",
     "text": [
      "Fungsi generate_donor_data selesai.\n"
     ]
    }
   ],
   "source": [
    "def generate_donor_data(n):\n",
    "    data = []\n",
    "    for i in range(n):\n",
    "        lat = round(random.uniform(-5.439174727052239, -5.37286637048833), 14)  # Koordinat di wilayah Bandar Lampung\n",
    "        lon = round(random.uniform(105.20842398470758, 105.31416739581265), 14)\n",
    "        \n",
    "        donor = {\n",
    "            \"donor_id\": \"D\" + str(i + 1), \n",
    "            \"jenis_makanan\": random.sample([\"makanan\", \"minuman\"], random.randint(1, 2)),\n",
    "            \"jumlah_makanan\": random.randint(1, 10),  # dalam kg atau porsi\n",
    "            \"lokasi_donor\": (lat, lon),  # Lokasi dalam koordinat GPS\n",
    "            \"makanan_layak_konsumsi\": random.choice([\"layak konsumsi\", \"hampir kadaluarsa\", \"tidak layak konsumsi\"]),\n",
    "            \"is_halal\": random.choice([True, False]),\n",
    "            \"is_for_child\": random.choice([True, False]),\n",
    "            \"is_for_elderly\": random.choice([True, False]),\n",
    "            \"is_alergan\": random.choice([True, False])\n",
    "        }\n",
    "        data.append(donor)\n",
    "    return pd.DataFrame(data)\n",
    "\n",
    "print(\"Fungsi generate_donor_data selesai.\")"
   ]
  },
  {
   "cell_type": "markdown",
   "metadata": {},
   "source": [
    "### Fungsi untuk membuat Data Penerima\n"
   ]
  },
  {
   "cell_type": "code",
   "execution_count": 23,
   "metadata": {},
   "outputs": [
    {
     "name": "stdout",
     "output_type": "stream",
     "text": [
      "Fungsi generate_receiver_data selesai.\n"
     ]
    }
   ],
   "source": [
    "def generate_receiver_data(n):\n",
    "    data = []\n",
    "    for i in range(n):\n",
    "        lat = round(random.uniform(-5.439174727052239, -5.37286637048833), 14)  # Koordinat di wilayah Bandar Lampung\n",
    "        lon = round(random.uniform(105.20842398470758, 105.31416739581265), 14)\n",
    "        \n",
    "        receiver = {\n",
    "            \"penerima_id\": \"R\" + str(i + 1),\n",
    "            \"jenis_makanan_dibutuhkan\": random.sample([\"makanan\", \"minuman\"], random.randint(1, 2)),  # Sekarang jenis makanan bisa banyak\n",
    "            \"jumlah_dibutuhkan\": random.randint(1, 10),  # dalam kg atau porsi\n",
    "            \"lokasi_penerima\": (lat, lon),  # Lokasi dalam koordinat GPS\n",
    "            \"jumlah_diterima\": random.randint(0, 5),\n",
    "            \"makanan_layak_konsumsi\" : random.choice([\"layak konsumsi\", \"tidak layak konsumsi\"])\n",
    "        }\n",
    "        \n",
    "        # Jika makanan yang dibutuhkan layak konsumsi, tambahkan informasi lebih lanjut\n",
    "        if receiver[\"makanan_layak_konsumsi\"] == \"layak konsumsi\":\n",
    "            receiver.update({\n",
    "                \"makanan_layak_konsumsi\": random.sample([\"layak konsumsi\", \"hampir kadaluarsa\"], random.randint(1, 2)),\n",
    "                \"is_halal\": random.choice([True, False]),\n",
    "                \"is_for_child\": random.choice([True, False]),\n",
    "                \"is_for_elderly\": random.choice([True, False]),\n",
    "                \"is_alergan_free\": random.choice([True, False])\n",
    "            })\n",
    "        else:\n",
    "            receiver.update({\n",
    "                \"makanan_layak_konsumsi\": \"tidak layak konsumsi\",\n",
    "                \"is_halal\": False,\n",
    "                \"is_for_child\": False,\n",
    "                \"is_for_elderly\": False,\n",
    "                \"is_alergan_free\": False\n",
    "            })\n",
    "        \n",
    "        data.append(receiver)\n",
    "    return pd.DataFrame(data)\n",
    "\n",
    "print(\"Fungsi generate_receiver_data selesai.\")"
   ]
  },
  {
   "cell_type": "markdown",
   "metadata": {},
   "source": [
    "### Menghasilkan data"
   ]
  },
  {
   "cell_type": "code",
   "execution_count": 24,
   "metadata": {},
   "outputs": [
    {
     "ename": "OSError",
     "evalue": "Cannot save file into a non-existent directory: 'machine_learning\\datasets\\raw_data'",
     "output_type": "error",
     "traceback": [
      "\u001b[1;31m---------------------------------------------------------------------------\u001b[0m",
      "\u001b[1;31mOSError\u001b[0m                                   Traceback (most recent call last)",
      "Cell \u001b[1;32mIn[24], line 8\u001b[0m\n\u001b[0;32m      6\u001b[0m \u001b[38;5;28;01mif\u001b[39;00m \u001b[38;5;129;01mnot\u001b[39;00m os\u001b[38;5;241m.\u001b[39mpath\u001b[38;5;241m.\u001b[39mexists(donor_file_path):\n\u001b[0;32m      7\u001b[0m     donor_data \u001b[38;5;241m=\u001b[39m generate_donor_data(\u001b[38;5;241m2000\u001b[39m)  \u001b[38;5;66;03m# 2000 data donor\u001b[39;00m\n\u001b[1;32m----> 8\u001b[0m     \u001b[43mdonor_data\u001b[49m\u001b[38;5;241;43m.\u001b[39;49m\u001b[43mto_csv\u001b[49m\u001b[43m(\u001b[49m\u001b[43mdonor_file_path\u001b[49m\u001b[43m,\u001b[49m\u001b[43m \u001b[49m\u001b[43mindex\u001b[49m\u001b[38;5;241;43m=\u001b[39;49m\u001b[38;5;28;43;01mFalse\u001b[39;49;00m\u001b[43m)\u001b[49m\n\u001b[0;32m      9\u001b[0m     \u001b[38;5;28mprint\u001b[39m(\u001b[38;5;124m\"\u001b[39m\u001b[38;5;124mData donor dibuat dan disimpan.\u001b[39m\u001b[38;5;124m\"\u001b[39m)\n\u001b[0;32m     10\u001b[0m \u001b[38;5;28;01melse\u001b[39;00m:\n",
      "File \u001b[1;32mc:\\Users\\aryas\\AppData\\Local\\Programs\\Python\\Python311\\Lib\\site-packages\\pandas\\util\\_decorators.py:333\u001b[0m, in \u001b[0;36mdeprecate_nonkeyword_arguments.<locals>.decorate.<locals>.wrapper\u001b[1;34m(*args, **kwargs)\u001b[0m\n\u001b[0;32m    327\u001b[0m \u001b[38;5;28;01mif\u001b[39;00m \u001b[38;5;28mlen\u001b[39m(args) \u001b[38;5;241m>\u001b[39m num_allow_args:\n\u001b[0;32m    328\u001b[0m     warnings\u001b[38;5;241m.\u001b[39mwarn(\n\u001b[0;32m    329\u001b[0m         msg\u001b[38;5;241m.\u001b[39mformat(arguments\u001b[38;5;241m=\u001b[39m_format_argument_list(allow_args)),\n\u001b[0;32m    330\u001b[0m         \u001b[38;5;167;01mFutureWarning\u001b[39;00m,\n\u001b[0;32m    331\u001b[0m         stacklevel\u001b[38;5;241m=\u001b[39mfind_stack_level(),\n\u001b[0;32m    332\u001b[0m     )\n\u001b[1;32m--> 333\u001b[0m \u001b[38;5;28;01mreturn\u001b[39;00m \u001b[43mfunc\u001b[49m\u001b[43m(\u001b[49m\u001b[38;5;241;43m*\u001b[39;49m\u001b[43margs\u001b[49m\u001b[43m,\u001b[49m\u001b[43m \u001b[49m\u001b[38;5;241;43m*\u001b[39;49m\u001b[38;5;241;43m*\u001b[39;49m\u001b[43mkwargs\u001b[49m\u001b[43m)\u001b[49m\n",
      "File \u001b[1;32mc:\\Users\\aryas\\AppData\\Local\\Programs\\Python\\Python311\\Lib\\site-packages\\pandas\\core\\generic.py:3967\u001b[0m, in \u001b[0;36mNDFrame.to_csv\u001b[1;34m(self, path_or_buf, sep, na_rep, float_format, columns, header, index, index_label, mode, encoding, compression, quoting, quotechar, lineterminator, chunksize, date_format, doublequote, escapechar, decimal, errors, storage_options)\u001b[0m\n\u001b[0;32m   3956\u001b[0m df \u001b[38;5;241m=\u001b[39m \u001b[38;5;28mself\u001b[39m \u001b[38;5;28;01mif\u001b[39;00m \u001b[38;5;28misinstance\u001b[39m(\u001b[38;5;28mself\u001b[39m, ABCDataFrame) \u001b[38;5;28;01melse\u001b[39;00m \u001b[38;5;28mself\u001b[39m\u001b[38;5;241m.\u001b[39mto_frame()\n\u001b[0;32m   3958\u001b[0m formatter \u001b[38;5;241m=\u001b[39m DataFrameFormatter(\n\u001b[0;32m   3959\u001b[0m     frame\u001b[38;5;241m=\u001b[39mdf,\n\u001b[0;32m   3960\u001b[0m     header\u001b[38;5;241m=\u001b[39mheader,\n\u001b[1;32m   (...)\u001b[0m\n\u001b[0;32m   3964\u001b[0m     decimal\u001b[38;5;241m=\u001b[39mdecimal,\n\u001b[0;32m   3965\u001b[0m )\n\u001b[1;32m-> 3967\u001b[0m \u001b[38;5;28;01mreturn\u001b[39;00m \u001b[43mDataFrameRenderer\u001b[49m\u001b[43m(\u001b[49m\u001b[43mformatter\u001b[49m\u001b[43m)\u001b[49m\u001b[38;5;241;43m.\u001b[39;49m\u001b[43mto_csv\u001b[49m\u001b[43m(\u001b[49m\n\u001b[0;32m   3968\u001b[0m \u001b[43m    \u001b[49m\u001b[43mpath_or_buf\u001b[49m\u001b[43m,\u001b[49m\n\u001b[0;32m   3969\u001b[0m \u001b[43m    \u001b[49m\u001b[43mlineterminator\u001b[49m\u001b[38;5;241;43m=\u001b[39;49m\u001b[43mlineterminator\u001b[49m\u001b[43m,\u001b[49m\n\u001b[0;32m   3970\u001b[0m \u001b[43m    \u001b[49m\u001b[43msep\u001b[49m\u001b[38;5;241;43m=\u001b[39;49m\u001b[43msep\u001b[49m\u001b[43m,\u001b[49m\n\u001b[0;32m   3971\u001b[0m \u001b[43m    \u001b[49m\u001b[43mencoding\u001b[49m\u001b[38;5;241;43m=\u001b[39;49m\u001b[43mencoding\u001b[49m\u001b[43m,\u001b[49m\n\u001b[0;32m   3972\u001b[0m \u001b[43m    \u001b[49m\u001b[43merrors\u001b[49m\u001b[38;5;241;43m=\u001b[39;49m\u001b[43merrors\u001b[49m\u001b[43m,\u001b[49m\n\u001b[0;32m   3973\u001b[0m \u001b[43m    \u001b[49m\u001b[43mcompression\u001b[49m\u001b[38;5;241;43m=\u001b[39;49m\u001b[43mcompression\u001b[49m\u001b[43m,\u001b[49m\n\u001b[0;32m   3974\u001b[0m \u001b[43m    \u001b[49m\u001b[43mquoting\u001b[49m\u001b[38;5;241;43m=\u001b[39;49m\u001b[43mquoting\u001b[49m\u001b[43m,\u001b[49m\n\u001b[0;32m   3975\u001b[0m \u001b[43m    \u001b[49m\u001b[43mcolumns\u001b[49m\u001b[38;5;241;43m=\u001b[39;49m\u001b[43mcolumns\u001b[49m\u001b[43m,\u001b[49m\n\u001b[0;32m   3976\u001b[0m \u001b[43m    \u001b[49m\u001b[43mindex_label\u001b[49m\u001b[38;5;241;43m=\u001b[39;49m\u001b[43mindex_label\u001b[49m\u001b[43m,\u001b[49m\n\u001b[0;32m   3977\u001b[0m \u001b[43m    \u001b[49m\u001b[43mmode\u001b[49m\u001b[38;5;241;43m=\u001b[39;49m\u001b[43mmode\u001b[49m\u001b[43m,\u001b[49m\n\u001b[0;32m   3978\u001b[0m \u001b[43m    \u001b[49m\u001b[43mchunksize\u001b[49m\u001b[38;5;241;43m=\u001b[39;49m\u001b[43mchunksize\u001b[49m\u001b[43m,\u001b[49m\n\u001b[0;32m   3979\u001b[0m \u001b[43m    \u001b[49m\u001b[43mquotechar\u001b[49m\u001b[38;5;241;43m=\u001b[39;49m\u001b[43mquotechar\u001b[49m\u001b[43m,\u001b[49m\n\u001b[0;32m   3980\u001b[0m \u001b[43m    \u001b[49m\u001b[43mdate_format\u001b[49m\u001b[38;5;241;43m=\u001b[39;49m\u001b[43mdate_format\u001b[49m\u001b[43m,\u001b[49m\n\u001b[0;32m   3981\u001b[0m \u001b[43m    \u001b[49m\u001b[43mdoublequote\u001b[49m\u001b[38;5;241;43m=\u001b[39;49m\u001b[43mdoublequote\u001b[49m\u001b[43m,\u001b[49m\n\u001b[0;32m   3982\u001b[0m \u001b[43m    \u001b[49m\u001b[43mescapechar\u001b[49m\u001b[38;5;241;43m=\u001b[39;49m\u001b[43mescapechar\u001b[49m\u001b[43m,\u001b[49m\n\u001b[0;32m   3983\u001b[0m \u001b[43m    \u001b[49m\u001b[43mstorage_options\u001b[49m\u001b[38;5;241;43m=\u001b[39;49m\u001b[43mstorage_options\u001b[49m\u001b[43m,\u001b[49m\n\u001b[0;32m   3984\u001b[0m \u001b[43m\u001b[49m\u001b[43m)\u001b[49m\n",
      "File \u001b[1;32mc:\\Users\\aryas\\AppData\\Local\\Programs\\Python\\Python311\\Lib\\site-packages\\pandas\\io\\formats\\format.py:1014\u001b[0m, in \u001b[0;36mDataFrameRenderer.to_csv\u001b[1;34m(self, path_or_buf, encoding, sep, columns, index_label, mode, compression, quoting, quotechar, lineterminator, chunksize, date_format, doublequote, escapechar, errors, storage_options)\u001b[0m\n\u001b[0;32m    993\u001b[0m     created_buffer \u001b[38;5;241m=\u001b[39m \u001b[38;5;28;01mFalse\u001b[39;00m\n\u001b[0;32m    995\u001b[0m csv_formatter \u001b[38;5;241m=\u001b[39m CSVFormatter(\n\u001b[0;32m    996\u001b[0m     path_or_buf\u001b[38;5;241m=\u001b[39mpath_or_buf,\n\u001b[0;32m    997\u001b[0m     lineterminator\u001b[38;5;241m=\u001b[39mlineterminator,\n\u001b[1;32m   (...)\u001b[0m\n\u001b[0;32m   1012\u001b[0m     formatter\u001b[38;5;241m=\u001b[39m\u001b[38;5;28mself\u001b[39m\u001b[38;5;241m.\u001b[39mfmt,\n\u001b[0;32m   1013\u001b[0m )\n\u001b[1;32m-> 1014\u001b[0m \u001b[43mcsv_formatter\u001b[49m\u001b[38;5;241;43m.\u001b[39;49m\u001b[43msave\u001b[49m\u001b[43m(\u001b[49m\u001b[43m)\u001b[49m\n\u001b[0;32m   1016\u001b[0m \u001b[38;5;28;01mif\u001b[39;00m created_buffer:\n\u001b[0;32m   1017\u001b[0m     \u001b[38;5;28;01massert\u001b[39;00m \u001b[38;5;28misinstance\u001b[39m(path_or_buf, StringIO)\n",
      "File \u001b[1;32mc:\\Users\\aryas\\AppData\\Local\\Programs\\Python\\Python311\\Lib\\site-packages\\pandas\\io\\formats\\csvs.py:251\u001b[0m, in \u001b[0;36mCSVFormatter.save\u001b[1;34m(self)\u001b[0m\n\u001b[0;32m    247\u001b[0m \u001b[38;5;250m\u001b[39m\u001b[38;5;124;03m\"\"\"\u001b[39;00m\n\u001b[0;32m    248\u001b[0m \u001b[38;5;124;03mCreate the writer & save.\u001b[39;00m\n\u001b[0;32m    249\u001b[0m \u001b[38;5;124;03m\"\"\"\u001b[39;00m\n\u001b[0;32m    250\u001b[0m \u001b[38;5;66;03m# apply compression and byte/text conversion\u001b[39;00m\n\u001b[1;32m--> 251\u001b[0m \u001b[38;5;28;01mwith\u001b[39;00m \u001b[43mget_handle\u001b[49m\u001b[43m(\u001b[49m\n\u001b[0;32m    252\u001b[0m \u001b[43m    \u001b[49m\u001b[38;5;28;43mself\u001b[39;49m\u001b[38;5;241;43m.\u001b[39;49m\u001b[43mfilepath_or_buffer\u001b[49m\u001b[43m,\u001b[49m\n\u001b[0;32m    253\u001b[0m \u001b[43m    \u001b[49m\u001b[38;5;28;43mself\u001b[39;49m\u001b[38;5;241;43m.\u001b[39;49m\u001b[43mmode\u001b[49m\u001b[43m,\u001b[49m\n\u001b[0;32m    254\u001b[0m \u001b[43m    \u001b[49m\u001b[43mencoding\u001b[49m\u001b[38;5;241;43m=\u001b[39;49m\u001b[38;5;28;43mself\u001b[39;49m\u001b[38;5;241;43m.\u001b[39;49m\u001b[43mencoding\u001b[49m\u001b[43m,\u001b[49m\n\u001b[0;32m    255\u001b[0m \u001b[43m    \u001b[49m\u001b[43merrors\u001b[49m\u001b[38;5;241;43m=\u001b[39;49m\u001b[38;5;28;43mself\u001b[39;49m\u001b[38;5;241;43m.\u001b[39;49m\u001b[43merrors\u001b[49m\u001b[43m,\u001b[49m\n\u001b[0;32m    256\u001b[0m \u001b[43m    \u001b[49m\u001b[43mcompression\u001b[49m\u001b[38;5;241;43m=\u001b[39;49m\u001b[38;5;28;43mself\u001b[39;49m\u001b[38;5;241;43m.\u001b[39;49m\u001b[43mcompression\u001b[49m\u001b[43m,\u001b[49m\n\u001b[0;32m    257\u001b[0m \u001b[43m    \u001b[49m\u001b[43mstorage_options\u001b[49m\u001b[38;5;241;43m=\u001b[39;49m\u001b[38;5;28;43mself\u001b[39;49m\u001b[38;5;241;43m.\u001b[39;49m\u001b[43mstorage_options\u001b[49m\u001b[43m,\u001b[49m\n\u001b[0;32m    258\u001b[0m \u001b[43m\u001b[49m\u001b[43m)\u001b[49m \u001b[38;5;28;01mas\u001b[39;00m handles:\n\u001b[0;32m    259\u001b[0m     \u001b[38;5;66;03m# Note: self.encoding is irrelevant here\u001b[39;00m\n\u001b[0;32m    260\u001b[0m     \u001b[38;5;28mself\u001b[39m\u001b[38;5;241m.\u001b[39mwriter \u001b[38;5;241m=\u001b[39m csvlib\u001b[38;5;241m.\u001b[39mwriter(\n\u001b[0;32m    261\u001b[0m         handles\u001b[38;5;241m.\u001b[39mhandle,\n\u001b[0;32m    262\u001b[0m         lineterminator\u001b[38;5;241m=\u001b[39m\u001b[38;5;28mself\u001b[39m\u001b[38;5;241m.\u001b[39mlineterminator,\n\u001b[1;32m   (...)\u001b[0m\n\u001b[0;32m    267\u001b[0m         quotechar\u001b[38;5;241m=\u001b[39m\u001b[38;5;28mself\u001b[39m\u001b[38;5;241m.\u001b[39mquotechar,\n\u001b[0;32m    268\u001b[0m     )\n\u001b[0;32m    270\u001b[0m     \u001b[38;5;28mself\u001b[39m\u001b[38;5;241m.\u001b[39m_save()\n",
      "File \u001b[1;32mc:\\Users\\aryas\\AppData\\Local\\Programs\\Python\\Python311\\Lib\\site-packages\\pandas\\io\\common.py:749\u001b[0m, in \u001b[0;36mget_handle\u001b[1;34m(path_or_buf, mode, encoding, compression, memory_map, is_text, errors, storage_options)\u001b[0m\n\u001b[0;32m    747\u001b[0m \u001b[38;5;66;03m# Only for write methods\u001b[39;00m\n\u001b[0;32m    748\u001b[0m \u001b[38;5;28;01mif\u001b[39;00m \u001b[38;5;124m\"\u001b[39m\u001b[38;5;124mr\u001b[39m\u001b[38;5;124m\"\u001b[39m \u001b[38;5;129;01mnot\u001b[39;00m \u001b[38;5;129;01min\u001b[39;00m mode \u001b[38;5;129;01mand\u001b[39;00m is_path:\n\u001b[1;32m--> 749\u001b[0m     \u001b[43mcheck_parent_directory\u001b[49m\u001b[43m(\u001b[49m\u001b[38;5;28;43mstr\u001b[39;49m\u001b[43m(\u001b[49m\u001b[43mhandle\u001b[49m\u001b[43m)\u001b[49m\u001b[43m)\u001b[49m\n\u001b[0;32m    751\u001b[0m \u001b[38;5;28;01mif\u001b[39;00m compression:\n\u001b[0;32m    752\u001b[0m     \u001b[38;5;28;01mif\u001b[39;00m compression \u001b[38;5;241m!=\u001b[39m \u001b[38;5;124m\"\u001b[39m\u001b[38;5;124mzstd\u001b[39m\u001b[38;5;124m\"\u001b[39m:\n\u001b[0;32m    753\u001b[0m         \u001b[38;5;66;03m# compression libraries do not like an explicit text-mode\u001b[39;00m\n",
      "File \u001b[1;32mc:\\Users\\aryas\\AppData\\Local\\Programs\\Python\\Python311\\Lib\\site-packages\\pandas\\io\\common.py:616\u001b[0m, in \u001b[0;36mcheck_parent_directory\u001b[1;34m(path)\u001b[0m\n\u001b[0;32m    614\u001b[0m parent \u001b[38;5;241m=\u001b[39m Path(path)\u001b[38;5;241m.\u001b[39mparent\n\u001b[0;32m    615\u001b[0m \u001b[38;5;28;01mif\u001b[39;00m \u001b[38;5;129;01mnot\u001b[39;00m parent\u001b[38;5;241m.\u001b[39mis_dir():\n\u001b[1;32m--> 616\u001b[0m     \u001b[38;5;28;01mraise\u001b[39;00m \u001b[38;5;167;01mOSError\u001b[39;00m(\u001b[38;5;124mrf\u001b[39m\u001b[38;5;124m\"\u001b[39m\u001b[38;5;124mCannot save file into a non-existent directory: \u001b[39m\u001b[38;5;124m'\u001b[39m\u001b[38;5;132;01m{\u001b[39;00mparent\u001b[38;5;132;01m}\u001b[39;00m\u001b[38;5;124m'\u001b[39m\u001b[38;5;124m\"\u001b[39m)\n",
      "\u001b[1;31mOSError\u001b[0m: Cannot save file into a non-existent directory: 'machine_learning\\datasets\\raw_data'"
     ]
    }
   ],
   "source": [
    "# Path untuk menyimpan file\n",
    "donor_file_path = 'machine_learning/datasets/raw_data/data_donor.csv'\n",
    "receiver_file_path = 'machine_learning/datasets/raw_data/data_receiver.csv'\n",
    "\n",
    "# Cek keberadaan file sebelum menulis ulang\n",
    "if not os.path.exists(donor_file_path):\n",
    "    donor_data = generate_donor_data(2000)  # 2000 data donor\n",
    "    donor_data.to_csv(donor_file_path, index=False)\n",
    "    print(\"Data donor dibuat dan disimpan.\")\n",
    "else:\n",
    "    print(\"Data donor sudah ada. Tidak menimpa file yang ada.\")\n",
    "\n",
    "if not os.path.exists(receiver_file_path):\n",
    "    receiver_data = generate_receiver_data(2000)  # 2000 data penerima\n",
    "    receiver_data.to_csv(receiver_file_path, index=False)\n",
    "    print(\"Data penerima dibuat dan disimpan.\")\n",
    "else:\n",
    "    print(\"Data penerima sudah ada. Tidak menimpa file yang ada.\")\n",
    "\n",
    "# Menampilkan contoh data jika file sudah ada\n",
    "if os.path.exists(donor_file_path):\n",
    "    donor_data = pd.read_csv(donor_file_path)\n",
    "    print(\"\\nContoh Data Donor:\")\n",
    "    print(donor_data.head())\n",
    "\n",
    "if os.path.exists(receiver_file_path):\n",
    "    receiver_data = pd.read_csv(receiver_file_path)\n",
    "    print(\"\\nContoh Data Penerima:\")\n",
    "    print(receiver_data.head())\n"
   ]
  }
 ],
 "metadata": {
  "kernelspec": {
   "display_name": "Python 3",
   "language": "python",
   "name": "python3"
  },
  "language_info": {
   "codemirror_mode": {
    "name": "ipython",
    "version": 3
   },
   "file_extension": ".py",
   "mimetype": "text/x-python",
   "name": "python",
   "nbconvert_exporter": "python",
   "pygments_lexer": "ipython3",
   "version": "3.11.9"
  }
 },
 "nbformat": 4,
 "nbformat_minor": 2
}
