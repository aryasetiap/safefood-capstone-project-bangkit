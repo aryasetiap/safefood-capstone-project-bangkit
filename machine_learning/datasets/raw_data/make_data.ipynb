{
 "cells": [
  {
   "cell_type": "markdown",
   "metadata": {},
   "source": [
    "# Membuat Dataset (data_donor dan data_receiver)\n",
    "Dataset yang dibuat selanjutnya akan digunakan dalam proses training model untuk sistem penunjang keputusan penerima yang paling cocok untuk menerima donasi makanan.\n"
   ]
  },
  {
   "cell_type": "markdown",
   "metadata": {},
   "source": [
    "## Deskripsi Lengkap terkait kode yang akan dibuat"
   ]
  },
  {
   "cell_type": "markdown",
   "metadata": {},
   "source": [
    "### 1. File Data Donor (data_donor.csv)\n",
    "File ini berisi informasi tentang donor makanan dan detail makanan yang didonasikan. Setiap baris mewakili satu entri donasi.\n",
    "\n",
    "#### Atribut\n",
    "a. donor_id\n",
    "- Tipe Data: String\n",
    "- Deskripsi: ID unik untuk setiap donor, dimulai dengan huruf \"D\" diikuti oleh angka (contoh: D1, D2, ...).\n",
    "    \n",
    "b. jenis_makanan\n",
    "- Tipe Data: List (String)\n",
    "- Deskripsi: Jenis makanan yang didonasikan oleh donor. Bisa berupa satu jenis (misalnya \"makanan\") atau lebih dari satu jenis (contoh: [\"makanan\", \"minuman\"]).\n",
    "\n",
    "c. jumlah_makanan\n",
    "- Tipe Data: Integer\n",
    "- Deskripsi: Jumlah makanan yang didonasikan, dinyatakan dalam porsi atau kilogram.\n",
    "\n",
    "d. lokasi_donor\n",
    "- Tipe Data: Tuple (Float, Float)\n",
    "- Deskripsi: Lokasi geografis donor dalam bentuk koordinat GPS (latitude, longitude).\n",
    "\n",
    "e. makanan_layak_konsumsi\n",
    "- Tipe Data: String\n",
    "- Deskripsi: Status kelayakan konsumsi makanan. Nilai-nilainya dapat berupa: \"layak konsumsi\", \"hampir kadaluarsa\", \"tidak layak konsumsi\"\n",
    "\n",
    "f. is_halal\n",
    "- Tipe Data: Boolean\n",
    "- Deskripsi: Informasi apakah makanan yang didonasikan halal (True) atau tidak halal (False).\n",
    "\n",
    "g. is_for_child\n",
    "- Tipe Data: Boolean\n",
    "- Deskripsi: Menunjukkan apakah makanan ini cocok untuk anak-anak (True) atau tidak (False).\n",
    "\n",
    "h. is_for_elderly\n",
    "- Tipe Data: Boolean\n",
    "- Deskripsi: Menunjukkan apakah makanan ini cocok untuk orang tua/lansia (True) atau tidak (False).\n",
    "\n",
    "i. is_alergan\n",
    "- Tipe Data: Boolean\n",
    "- Deskripsi: Menunjukkan apakah makanan mengandung bahan yang dapat menyebabkan alergi (True) atau tidak (False).\n",
    "\n",
    "\n",
    "### 2. File Data Penerima (data_receiver.csv)\n",
    "File ini berisi informasi tentang penerima makanan dan detail kebutuhan makanan mereka. Setiap baris mewakili satu penerima.\n",
    "\n",
    "#### Atribut\n",
    "a. penerima_id\n",
    "- Tipe Data: String\n",
    "- Deskripsi: ID unik untuk setiap penerima, dimulai dengan huruf \"R\" diikuti oleh angka (contoh: R1, R2, ...).\n",
    "\n",
    "b. jenis_makanan_dibutuhkan\n",
    "- Tipe Data: List (String)\n",
    "- Deskripsi: Jenis makanan yang dibutuhkan oleh penerima. Bisa berupa satu jenis (misalnya \"makanan\") atau lebih dari satu jenis (contoh: [\"makanan\", \"minuman\"]).\n",
    "\n",
    "c. jumlah_dibutuhkan\n",
    "- Tipe Data: Integer\n",
    "- Deskripsi: Jumlah makanan yang dibutuhkan oleh penerima, dinyatakan dalam porsi atau kilogram.\n",
    "\n",
    "d. lokasi_penerima\n",
    "- Tipe Data: Tuple (Float, Float)\n",
    "- Deskripsi: Lokasi geografis penerima dalam bentuk koordinat GPS (latitude, longitude).\n",
    "\n",
    "e. jumlah_diterima\n",
    "- Tipe Data: Integer\n",
    "- Deskripsi: Jumlah makanan yang telah diterima oleh penerima sebelumnya, dinyatakan dalam porsi atau kilogram.\n",
    "\n",
    "f. makanan_layak_konsumsi\n",
    "- Tipe Data: String\n",
    "- Deskripsi: Status kelayakan konsumsi makanan yang dibutuhkan. Nilai-nilainya dapat berupa: \"layak konsumsi\", \"hampir kadaluarsa\", \"tidak layak konsumsi\"\n",
    "\n",
    "g. is_halal\n",
    "- Tipe Data: Boolean\n",
    "- Deskripsi: Menunjukkan apakah makanan yang dibutuhkan harus halal (True) atau tidak (False).\n",
    "\n",
    "h. is_for_child\n",
    "- Tipe Data: Boolean\n",
    "- Deskripsi: Menunjukkan apakah makanan yang dibutuhkan harus cocok untuk anak-anak (True) atau tidak (False).\n",
    "\n",
    "i. is_for_elderly\n",
    "- Tipe Data: Boolean\n",
    "- Deskripsi: Menunjukkan apakah makanan yang dibutuhkan harus cocok untuk orang tua/lansia (True) atau tidak (False).\n",
    "\n",
    "j. is_alergan_free\n",
    "- Tipe Data: Boolean\n",
    "- Deskripsi: Menunjukkan apakah makanan yang dibutuhkan harus bebas alergi (True) atau tidak (False)."
   ]
  },
  {
   "cell_type": "markdown",
   "metadata": {},
   "source": [
    "## Kode untuk Generate Dataset"
   ]
  },
  {
   "cell_type": "markdown",
   "metadata": {},
   "source": [
    "### Import library yang diperlukan"
   ]
  },
  {
   "cell_type": "code",
   "execution_count": 1,
   "metadata": {},
   "outputs": [
    {
     "name": "stdout",
     "output_type": "stream",
     "text": [
      "Import library selesai.\n"
     ]
    }
   ],
   "source": [
    "import pandas as pd\n",
    "import random\n",
    "import os\n",
    "\n",
    "print(\"Import library selesai.\")"
   ]
  },
  {
   "cell_type": "markdown",
   "metadata": {},
   "source": [
    "### Fungsi untuk membuat Data Donor"
   ]
  },
  {
   "cell_type": "code",
   "execution_count": 2,
   "metadata": {},
   "outputs": [
    {
     "name": "stdout",
     "output_type": "stream",
     "text": [
      "Fungsi generate_donor_data selesai.\n"
     ]
    }
   ],
   "source": [
    "def generate_donor_data(n):\n",
    "    data = []\n",
    "    for i in range(n):\n",
    "        lat = round(random.uniform(-5.439174727052239, -5.37286637048833), 14)  # Koordinat di wilayah Bandar Lampung\n",
    "        lon = round(random.uniform(105.20842398470758, 105.31416739581265), 14)\n",
    "        \n",
    "        donor = {\n",
    "            \"donor_id\": \"D\" + str(i + 1), \n",
    "            \"jenis_makanan\": random.sample([\"makanan\", \"minuman\"], random.randint(1, 2)),\n",
    "            \"jumlah_makanan\": random.randint(1, 10),  # dalam kg atau porsi\n",
    "            \"lokasi_donor\": (lat, lon),  # Lokasi dalam koordinat GPS\n",
    "            \"makanan_layak_konsumsi\": random.choice([\"layak konsumsi\", \"hampir kadaluarsa\", \"tidak layak konsumsi\"]),\n",
    "            \"is_halal\": random.choice([True, False]),\n",
    "            \"is_for_child\": random.choice([True, False]),\n",
    "            \"is_for_elderly\": random.choice([True, False]),\n",
    "            \"is_alergan\": random.choice([True, False])\n",
    "        }\n",
    "        data.append(donor)\n",
    "    return pd.DataFrame(data)\n",
    "\n",
    "print(\"Fungsi generate_donor_data selesai.\")"
   ]
  },
  {
   "cell_type": "markdown",
   "metadata": {},
   "source": [
    "### Fungsi untuk membuat Data Penerima\n"
   ]
  },
  {
   "cell_type": "code",
   "execution_count": 3,
   "metadata": {},
   "outputs": [
    {
     "name": "stdout",
     "output_type": "stream",
     "text": [
      "Fungsi generate_receiver_data selesai.\n"
     ]
    }
   ],
   "source": [
    "def generate_receiver_data(n):\n",
    "    data = []\n",
    "    for i in range(n):\n",
    "        lat = round(random.uniform(-5.439174727052239, -5.37286637048833), 14)  # Koordinat di wilayah Bandar Lampung\n",
    "        lon = round(random.uniform(105.20842398470758, 105.31416739581265), 14)\n",
    "        \n",
    "        receiver = {\n",
    "            \"penerima_id\": \"R\" + str(i + 1),\n",
    "            \"jenis_makanan_dibutuhkan\": random.sample([\"makanan\", \"minuman\"], random.randint(1, 2)),  # Sekarang jenis makanan bisa banyak\n",
    "            \"jumlah_dibutuhkan\": random.randint(1, 10),  # dalam kg atau porsi\n",
    "            \"lokasi_penerima\": (lat, lon),  # Lokasi dalam koordinat GPS\n",
    "            \"jumlah_diterima\": random.randint(0, 5),\n",
    "            \"makanan_layak_konsumsi\" : random.choice([\"layak konsumsi\", \"tidak layak konsumsi\"])\n",
    "        }\n",
    "        \n",
    "        # Jika makanan yang dibutuhkan layak konsumsi, tambahkan informasi lebih lanjut\n",
    "        if receiver[\"makanan_layak_konsumsi\"] == \"layak konsumsi\":\n",
    "            receiver.update({\n",
    "                \"makanan_layak_konsumsi\": random.sample([\"layak konsumsi\", \"hampir kadaluarsa\"], random.randint(1, 2)),\n",
    "                \"is_halal\": random.choice([True, False]),\n",
    "                \"is_for_child\": random.choice([True, False]),\n",
    "                \"is_for_elderly\": random.choice([True, False]),\n",
    "                \"is_alergan_free\": random.choice([True, False])\n",
    "            })\n",
    "        else:\n",
    "            receiver.update({\n",
    "                \"makanan_layak_konsumsi\": \"tidak layak konsumsi\",\n",
    "                \"is_halal\": False,\n",
    "                \"is_for_child\": False,\n",
    "                \"is_for_elderly\": False,\n",
    "                \"is_alergan_free\": False\n",
    "            })\n",
    "        \n",
    "        data.append(receiver)\n",
    "    return pd.DataFrame(data)\n",
    "\n",
    "print(\"Fungsi generate_receiver_data selesai.\")"
   ]
  },
  {
   "cell_type": "markdown",
   "metadata": {},
   "source": [
    "### Menghasilkan data"
   ]
  },
  {
   "cell_type": "code",
   "execution_count": 4,
   "metadata": {},
   "outputs": [
    {
     "name": "stdout",
     "output_type": "stream",
     "text": [
      "Data donor dibuat dan disimpan.\n",
      "Data penerima dibuat dan disimpan.\n",
      "\n",
      "Contoh Data Donor:\n",
      "  donor_id           jenis_makanan  jumlah_makanan  \\\n",
      "0       D1             ['minuman']               4   \n",
      "1       D2             ['minuman']               8   \n",
      "2       D3  ['minuman', 'makanan']               6   \n",
      "3       D4             ['minuman']               2   \n",
      "4       D5             ['makanan']               3   \n",
      "\n",
      "                              lokasi_donor makanan_layak_konsumsi  is_halal  \\\n",
      "0   (-5.4371805167803, 105.22789132966643)   tidak layak konsumsi      True   \n",
      "1  (-5.41791883126274, 105.31303510252201)   tidak layak konsumsi      True   \n",
      "2  (-5.37546883187783, 105.25501623675349)   tidak layak konsumsi     False   \n",
      "3   (-5.39690771605578, 105.2110846330879)   tidak layak konsumsi      True   \n",
      "4   (-5.37902105025945, 105.3139240442038)         layak konsumsi      True   \n",
      "\n",
      "   is_for_child  is_for_elderly  is_alergan  \n",
      "0         False           False        True  \n",
      "1         False            True       False  \n",
      "2         False           False        True  \n",
      "3         False           False        True  \n",
      "4          True           False        True  \n",
      "\n",
      "Contoh Data Penerima:\n",
      "  penerima_id jenis_makanan_dibutuhkan  jumlah_dibutuhkan  \\\n",
      "0          R1              ['makanan']                  5   \n",
      "1          R2              ['makanan']                  5   \n",
      "2          R3              ['makanan']                  8   \n",
      "3          R4              ['minuman']                 10   \n",
      "4          R5              ['minuman']                  7   \n",
      "\n",
      "                           lokasi_penerima  jumlah_diterima  \\\n",
      "0  (-5.40111210034528, 105.24284216038546)                4   \n",
      "1   (-5.43770820552181, 105.2300245667009)                4   \n",
      "2  (-5.39159919397975, 105.22541881010831)                5   \n",
      "3  (-5.40173904848697, 105.23124733197133)                0   \n",
      "4  (-5.39033872408051, 105.30929657079442)                2   \n",
      "\n",
      "  makanan_layak_konsumsi  is_halal  is_for_child  is_for_elderly  \\\n",
      "0   tidak layak konsumsi     False         False           False   \n",
      "1   tidak layak konsumsi     False         False           False   \n",
      "2   tidak layak konsumsi     False         False           False   \n",
      "3   tidak layak konsumsi     False         False           False   \n",
      "4   tidak layak konsumsi     False         False           False   \n",
      "\n",
      "   is_alergan_free  \n",
      "0            False  \n",
      "1            False  \n",
      "2            False  \n",
      "3            False  \n",
      "4            False  \n",
      "Proses selesai.\n"
     ]
    }
   ],
   "source": [
    "# Path untuk menyimpan file\n",
    "donor_file_path = 'data_donor.csv'\n",
    "receiver_file_path = 'data_receiver.csv'\n",
    "\n",
    "# Cek keberadaan file sebelum menulis ulang\n",
    "if not os.path.exists(donor_file_path):\n",
    "    donor_data = generate_donor_data(2000)  # 2000 data donor\n",
    "    donor_data.to_csv(donor_file_path, index=False)\n",
    "    print(\"Data donor dibuat dan disimpan.\")\n",
    "else:\n",
    "    print(\"Data donor sudah ada. Tidak menimpa file yang ada.\")\n",
    "\n",
    "if not os.path.exists(receiver_file_path):\n",
    "    receiver_data = generate_receiver_data(2000)  # 2000 data penerima\n",
    "    receiver_data.to_csv(receiver_file_path, index=False)\n",
    "    print(\"Data penerima dibuat dan disimpan.\")\n",
    "else:\n",
    "    print(\"Data penerima sudah ada. Tidak menimpa file yang ada.\")\n",
    "\n",
    "# Menampilkan contoh data jika file sudah ada\n",
    "if os.path.exists(donor_file_path):\n",
    "    donor_data = pd.read_csv(donor_file_path)\n",
    "    print(\"\\nContoh Data Donor:\")\n",
    "    print(donor_data.head())\n",
    "\n",
    "if os.path.exists(receiver_file_path):\n",
    "    receiver_data = pd.read_csv(receiver_file_path)\n",
    "    print(\"\\nContoh Data Penerima:\")\n",
    "    print(receiver_data.head())\n",
    "\n",
    "print(\"Proses selesai.\")"
   ]
  }
 ],
 "metadata": {
  "kernelspec": {
   "display_name": "Python 3",
   "language": "python",
   "name": "python3"
  },
  "language_info": {
   "codemirror_mode": {
    "name": "ipython",
    "version": 3
   },
   "file_extension": ".py",
   "mimetype": "text/x-python",
   "name": "python",
   "nbconvert_exporter": "python",
   "pygments_lexer": "ipython3",
   "version": "3.11.9"
  }
 },
 "nbformat": 4,
 "nbformat_minor": 2
}
