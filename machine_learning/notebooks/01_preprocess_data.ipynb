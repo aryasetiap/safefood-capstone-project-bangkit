{
 "cells": [
  {
   "cell_type": "markdown",
   "metadata": {},
   "source": [
    "# Preprocessing Data untuk Project Capstone"
   ]
  },
  {
   "cell_type": "markdown",
   "metadata": {},
   "source": [
    "import library yang diperlukan : "
   ]
  },
  {
   "cell_type": "code",
   "execution_count": 1,
   "metadata": {},
   "outputs": [
    {
     "name": "stdout",
     "output_type": "stream",
     "text": [
      "Library berhasil diimport\n"
     ]
    }
   ],
   "source": [
    "import pandas as pd\n",
    "from sklearn.preprocessing import MinMaxScaler\n",
    "\n",
    "print(\"Library berhasil diimport\")"
   ]
  },
  {
   "cell_type": "markdown",
   "metadata": {},
   "source": [
    "Membaca Dataset yang akan dilakukan proses pre-processing : "
   ]
  },
  {
   "cell_type": "code",
   "execution_count": 2,
   "metadata": {},
   "outputs": [
    {
     "name": "stdout",
     "output_type": "stream",
     "text": [
      "Data berhasil diimport\n"
     ]
    }
   ],
   "source": [
    "# Membaca dataset\n",
    "df_donor = pd.read_csv('../data/raw/data_donor.csv')\n",
    "df_penerima = pd.read_csv('../data/raw/data_penerima.csv')\n",
    "\n",
    "print(\"Data berhasil diimport\")"
   ]
  },
  {
   "cell_type": "markdown",
   "metadata": {},
   "source": [
    "### Pre-Processing untuk `data_donor.csv`"
   ]
  },
  {
   "cell_type": "markdown",
   "metadata": {},
   "source": [
    "##### 1. Memastikan `id_penyumbang` unik"
   ]
  },
  {
   "cell_type": "code",
   "execution_count": 3,
   "metadata": {},
   "outputs": [
    {
     "name": "stdout",
     "output_type": "stream",
     "text": [
      "Tidak ditemukan duplikat pada kolom 'id_penyumbang'.\n"
     ]
    }
   ],
   "source": [
    "if not df_donor['id_penyumbang'].is_unique:\n",
    "    df_donor.drop_duplicates(subset='id_penyumbang', keep='first', inplace=True)\n",
    "    print(\"Terdapat duplikat pada kolom 'id_penyumbang'. Data telah dibersihkan.\")\n",
    "else:\n",
    "    print(\"Tidak ditemukan duplikat pada kolom 'id_penyumbang'.\")"
   ]
  },
  {
   "cell_type": "markdown",
   "metadata": {},
   "source": [
    "##### 2. One-Hot Encoding untuk `makanan_disumbangkan`"
   ]
  },
  {
   "cell_type": "code",
   "execution_count": 4,
   "metadata": {},
   "outputs": [
    {
     "name": "stdout",
     "output_type": "stream",
     "text": [
      "kolom 'makanan_disumbangkan' telah diubah menjadi one-hot encoding\n",
      "terdapat kolom baru:  Index(['disumbangkan_makanan', 'disumbangkan_makanan_minuman',\n",
      "       'disumbangkan_minuman'],\n",
      "      dtype='object')\n"
     ]
    }
   ],
   "source": [
    "df_donor = pd.get_dummies(df_donor, columns=['makanan_disumbangkan'], prefix='disumbangkan', prefix_sep='_')\n",
    "\n",
    "# Mengubah semua kolom hasil One-Hot Encoding ke format 0/1\n",
    "one_hot_columns = [col for col in df_donor.columns if col.startswith('disumbangkan_')]\n",
    "df_donor[one_hot_columns] = df_donor[one_hot_columns].astype(int)\n",
    "\n",
    "print(\"kolom 'makanan_disumbangkan' telah diubah menjadi one-hot encoding\")\n",
    "print(\"terdapat kolom baru: \", df_donor.columns[df_donor.columns.str.contains('disumbangkan_')])"
   ]
  },
  {
   "cell_type": "markdown",
   "metadata": {},
   "source": [
    "##### 3. Memastikan `jumlah_disumbangkan` berisi angka integer"
   ]
  },
  {
   "cell_type": "code",
   "execution_count": 5,
   "metadata": {},
   "outputs": [
    {
     "name": "stdout",
     "output_type": "stream",
     "text": [
      "kolom 'jumlah_disumbangkan' telah diubah menjadi integer\n"
     ]
    }
   ],
   "source": [
    "df_donor['jumlah_disumbangkan'] = pd.to_numeric(df_donor['jumlah_disumbangkan'], errors='coerce').fillna(0).astype(int)\n",
    "\n",
    "print(\"kolom 'jumlah_disumbangkan' telah diubah menjadi integer\")"
   ]
  },
  {
   "cell_type": "markdown",
   "metadata": {},
   "source": [
    "##### 6. One-Hot Encoding untuk `kondisi_makanan`"
   ]
  },
  {
   "cell_type": "code",
   "execution_count": 6,
   "metadata": {},
   "outputs": [
    {
     "name": "stdout",
     "output_type": "stream",
     "text": [
      "kolom 'kondisi_makanan' telah diubah menjadi one-hot encoding\n",
      "terdapat kolom baru:  Index(['kondisi_hampir_kadaluarsa', 'kondisi_layak_konsumsi',\n",
      "       'kondisi_tidak_layak_konsumsi'],\n",
      "      dtype='object')\n"
     ]
    }
   ],
   "source": [
    "df_donor = pd.get_dummies(df_donor, columns=['kondisi_makanan'], prefix='kondisi')\n",
    "\n",
    "# Mengubah semua kolom hasil One-Hot Encoding ke format 0/1\n",
    "one_hot_columns = [col for col in df_donor.columns if col.startswith('kondisi_')]\n",
    "df_donor[one_hot_columns] = df_donor[one_hot_columns].astype(int)\n",
    "\n",
    "print(\"kolom 'kondisi_makanan' telah diubah menjadi one-hot encoding\")\n",
    "print(\"terdapat kolom baru: \", df_donor.columns[df_donor.columns.str.contains('kondisi_')])"
   ]
  },
  {
   "cell_type": "markdown",
   "metadata": {},
   "source": [
    "##### 7, 8, 9, 10. Ubah boolean menjadi 1/0"
   ]
  },
  {
   "cell_type": "code",
   "execution_count": 7,
   "metadata": {},
   "outputs": [
    {
     "name": "stdout",
     "output_type": "stream",
     "text": [
      "kolom 'is_halal', 'is_for_child', 'is_for_elderly', dan 'is_alergan' telah diubah menjadi integer\n"
     ]
    }
   ],
   "source": [
    "df_donor['is_halal'] = df_donor['is_halal'].astype(int)\n",
    "df_donor['is_for_child'] = df_donor['is_for_child'].astype(int)\n",
    "df_donor['is_for_elderly'] = df_donor['is_for_elderly'].astype(int)\n",
    "df_donor['is_alergan'] = df_donor['is_alergan'].astype(int)\n",
    "\n",
    "print(\"kolom 'is_halal', 'is_for_child', 'is_for_elderly', dan 'is_alergan' telah diubah menjadi integer\")"
   ]
  },
  {
   "cell_type": "markdown",
   "metadata": {},
   "source": [
    "##### Simpan hasil pra-pemrosesan"
   ]
  },
  {
   "cell_type": "code",
   "execution_count": 8,
   "metadata": {},
   "outputs": [
    {
     "name": "stdout",
     "output_type": "stream",
     "text": [
      "Data data_donor.csv berhasil diproses dan disimpan di 'data_donor_processed.csv'\n"
     ]
    }
   ],
   "source": [
    "df_donor.to_csv('../data/processed/data_donor_processed.csv', index=False)\n",
    "\n",
    "print(\"Data data_donor.csv berhasil diproses dan disimpan di 'data_donor_processed.csv'\")"
   ]
  },
  {
   "cell_type": "markdown",
   "metadata": {},
   "source": [
    "### Pre-Processing untuk `data_penerima.csv`"
   ]
  },
  {
   "cell_type": "markdown",
   "metadata": {},
   "source": [
    "##### 1. Memastikan `id_penerima` unik"
   ]
  },
  {
   "cell_type": "code",
   "execution_count": 9,
   "metadata": {},
   "outputs": [
    {
     "name": "stdout",
     "output_type": "stream",
     "text": [
      "Tidak ditemukan duplikat pada kolom 'id_penerima'.\n"
     ]
    }
   ],
   "source": [
    "if not df_penerima['id_penerima'].is_unique:\n",
    "    df_penerima.drop_duplicates(subset='id_penerima', keep='first', inplace=True)\n",
    "    print(\"Terdapat duplikat pada kolom 'id_penerima'. Data telah dibersihkan.\")\n",
    "else:\n",
    "    print(\"Tidak ditemukan duplikat pada kolom 'id_penerima'.\")"
   ]
  },
  {
   "cell_type": "markdown",
   "metadata": {},
   "source": [
    "##### 2. One-Hot Encoding untuk `makanan_dibutuhkan`"
   ]
  },
  {
   "cell_type": "code",
   "execution_count": 10,
   "metadata": {},
   "outputs": [
    {
     "name": "stdout",
     "output_type": "stream",
     "text": [
      "kolom 'makanan_dibutuhkan' telah diubah menjadi one-hot encoding\n",
      "terdapat kolom baru:  Index(['dibutuhkan_makanan', 'dibutuhkan_makanan_minuman',\n",
      "       'dibutuhkan_minuman'],\n",
      "      dtype='object')\n"
     ]
    }
   ],
   "source": [
    "df_penerima = pd.get_dummies(df_penerima, columns=['makanan_dibutuhkan'], prefix='dibutuhkan', prefix_sep='_')\n",
    "\n",
    "# Mengubah semua kolom hasil One-Hot Encoding ke format 0/1\n",
    "one_hot_columns = [col for col in df_penerima.columns if col.startswith('dibutuhkan_')]\n",
    "df_penerima[one_hot_columns] = df_penerima[one_hot_columns].astype(int)\n",
    "\n",
    "print(\"kolom 'makanan_dibutuhkan' telah diubah menjadi one-hot encoding\")\n",
    "print(\"terdapat kolom baru: \", df_penerima.columns[df_penerima.columns.str.contains('dibutuhkan_')])"
   ]
  },
  {
   "cell_type": "markdown",
   "metadata": {},
   "source": [
    "##### 3. Pastikan `jumlah_dibutuhkan` berisi angka integer"
   ]
  },
  {
   "cell_type": "code",
   "execution_count": 11,
   "metadata": {},
   "outputs": [
    {
     "name": "stdout",
     "output_type": "stream",
     "text": [
      "kolom 'jumlah_dibutuhkan' telah diubah menjadi integer\n"
     ]
    }
   ],
   "source": [
    "df_penerima['jumlah_dibutuhkan'] = pd.to_numeric(df_penerima['jumlah_dibutuhkan'], errors='coerce').fillna(0).astype(int)\n",
    "\n",
    "print(\"kolom 'jumlah_dibutuhkan' telah diubah menjadi integer\")"
   ]
  },
  {
   "cell_type": "markdown",
   "metadata": {},
   "source": [
    "##### 6. Pastikan `frekuensi_menerima` berisi angka integer"
   ]
  },
  {
   "cell_type": "code",
   "execution_count": 12,
   "metadata": {},
   "outputs": [
    {
     "name": "stdout",
     "output_type": "stream",
     "text": [
      "kolom 'frekuensi_menerima' telah diubah menjadi integer\n"
     ]
    }
   ],
   "source": [
    "df_penerima['frekuensi_menerima'] = pd.to_numeric(df_penerima['frekuensi_menerima'], errors='coerce').fillna(0).astype(int)\n",
    "\n",
    "print(\"kolom 'frekuensi_menerima' telah diubah menjadi integer\")"
   ]
  },
  {
   "cell_type": "markdown",
   "metadata": {},
   "source": [
    "##### 7. One-Hot Encoding untuk `kondisi_makanan_diterima`\n"
   ]
  },
  {
   "cell_type": "code",
   "execution_count": 13,
   "metadata": {},
   "outputs": [
    {
     "name": "stdout",
     "output_type": "stream",
     "text": [
      "kolom 'kondisi_makanan_diterima' telah diubah menjadi one-hot encoding\n",
      "terdapat kolom baru:  Index(['kondisi_menerima_hampir_kadaluarsa', 'kondisi_menerima_layak_konsumsi',\n",
      "       'kondisi_menerima_layak_konsumsi_hampir_kadaluarsa',\n",
      "       'kondisi_menerima_tidak_layak konsumsi'],\n",
      "      dtype='object')\n"
     ]
    }
   ],
   "source": [
    "df_penerima = pd.get_dummies(df_penerima, columns=['kondisi_makanan_diterima'], prefix='kondisi_menerima')\n",
    "\n",
    "# Mengubah semua kolom hasil One-Hot Encoding ke format 0/1\n",
    "one_hot_columns = [col for col in df_penerima.columns if col.startswith('kondisi_')]\n",
    "df_penerima[one_hot_columns] = df_penerima[one_hot_columns].astype(int)\n",
    "\n",
    "print(\"kolom 'kondisi_makanan_diterima' telah diubah menjadi one-hot encoding\")\n",
    "print(\"terdapat kolom baru: \", df_penerima.columns[df_penerima.columns.str.contains('kondisi_')])"
   ]
  },
  {
   "cell_type": "markdown",
   "metadata": {},
   "source": [
    "##### 8, 9, 10, 11. Ubah kolom boolean menjadi 0/1"
   ]
  },
  {
   "cell_type": "code",
   "execution_count": 14,
   "metadata": {},
   "outputs": [
    {
     "name": "stdout",
     "output_type": "stream",
     "text": [
      "kolom 'is_halal', 'is_for_child', 'is_for_elderly', dan 'is_alergan_free' telah diubah menjadi integer\n"
     ]
    }
   ],
   "source": [
    "df_penerima['is_halal'] = df_penerima['is_halal'].astype(int)\n",
    "df_penerima['is_for_child'] = df_penerima['is_for_child'].astype(int)\n",
    "df_penerima['is_for_elderly'] = df_penerima['is_for_elderly'].astype(int)\n",
    "df_penerima['is_alergan_free'] = df_penerima['is_alergan_free'].astype(int)\n",
    "\n",
    "print(\"kolom 'is_halal', 'is_for_child', 'is_for_elderly', dan 'is_alergan_free' telah diubah menjadi integer\")"
   ]
  },
  {
   "cell_type": "markdown",
   "metadata": {},
   "source": [
    "##### 12. One-Hot Encoding untuk `status_penerima`"
   ]
  },
  {
   "cell_type": "code",
   "execution_count": 15,
   "metadata": {},
   "outputs": [
    {
     "name": "stdout",
     "output_type": "stream",
     "text": [
      "kolom 'status_penerima' telah diubah menjadi one-hot encoding\n",
      "terdapat kolom baru:  Index(['status_mendesak', 'status_normal', 'status_tidak mendesak'], dtype='object')\n"
     ]
    }
   ],
   "source": [
    "df_penerima = pd.get_dummies(df_penerima, columns=['status_penerima'], prefix='status')\n",
    "\n",
    "# Mengubah semua kolom hasil One-Hot Encoding ke format 0/1\n",
    "one_hot_columns = [col for col in df_penerima.columns if col.startswith('status_')]\n",
    "df_penerima[one_hot_columns] = df_penerima[one_hot_columns].astype(int)\n",
    "\n",
    "print(\"kolom 'status_penerima' telah diubah menjadi one-hot encoding\")\n",
    "print(\"terdapat kolom baru: \", df_penerima.columns[df_penerima.columns.str.contains('status_')])"
   ]
  },
  {
   "cell_type": "markdown",
   "metadata": {},
   "source": [
    "##### Simpan hasil pra-pemrosesan"
   ]
  },
  {
   "cell_type": "code",
   "execution_count": 16,
   "metadata": {},
   "outputs": [
    {
     "name": "stdout",
     "output_type": "stream",
     "text": [
      "Data penerima telah diproses dan disimpan di '../data/processed/data_penerima_processed.csv'\n"
     ]
    }
   ],
   "source": [
    "df_penerima.to_csv('../data/processed/data_penerima_processed.csv', index=False)\n",
    "\n",
    "print(\"Data penerima telah diproses dan disimpan di '../data/processed/data_penerima_processed.csv'\")"
   ]
  },
  {
   "cell_type": "code",
   "execution_count": 17,
   "metadata": {},
   "outputs": [
    {
     "name": "stdout",
     "output_type": "stream",
     "text": [
      "Proses preprocessing selesai\n"
     ]
    }
   ],
   "source": [
    "print(\"Proses preprocessing selesai\")"
   ]
  }
 ],
 "metadata": {
  "kernelspec": {
   "display_name": "Python 3",
   "language": "python",
   "name": "python3"
  },
  "language_info": {
   "codemirror_mode": {
    "name": "ipython",
    "version": 3
   },
   "file_extension": ".py",
   "mimetype": "text/x-python",
   "name": "python",
   "nbconvert_exporter": "python",
   "pygments_lexer": "ipython3",
   "version": "3.11.9"
  }
 },
 "nbformat": 4,
 "nbformat_minor": 2
}
